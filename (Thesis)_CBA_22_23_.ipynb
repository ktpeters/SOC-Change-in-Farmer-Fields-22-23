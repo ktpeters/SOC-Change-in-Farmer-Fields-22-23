{
  "nbformat": 4,
  "nbformat_minor": 0,
  "metadata": {
    "colab": {
      "provenance": [],
      "toc_visible": true,
      "authorship_tag": "ABX9TyPDUio5eobZMNCcysVfbpsz",
      "include_colab_link": true
    },
    "kernelspec": {
      "name": "python3",
      "display_name": "Python 3"
    },
    "language_info": {
      "name": "python"
    }
  },
  "cells": [
    {
      "cell_type": "markdown",
      "metadata": {
        "id": "view-in-github",
        "colab_type": "text"
      },
      "source": [
        "<a href=\"https://colab.research.google.com/github/ktpeters/SOC-Change-in-Farmer-Fields-22-23/blob/main/(Thesis)_CBA_22_23_.ipynb\" target=\"_parent\"><img src=\"https://colab.research.google.com/assets/colab-badge.svg\" alt=\"Open In Colab\"/></a>"
      ]
    },
    {
      "cell_type": "code",
      "source": [
        "!pip install rasterio"
      ],
      "metadata": {
        "colab": {
          "base_uri": "https://localhost:8080/"
        },
        "id": "Jgpma4GjAGXd",
        "outputId": "2b241e35-c617-458f-8ba8-c435f08a0681"
      },
      "execution_count": null,
      "outputs": [
        {
          "output_type": "stream",
          "name": "stdout",
          "text": [
            "Collecting rasterio\n",
            "  Downloading rasterio-1.4.3-cp311-cp311-manylinux_2_17_x86_64.manylinux2014_x86_64.whl.metadata (9.1 kB)\n",
            "Collecting affine (from rasterio)\n",
            "  Downloading affine-2.4.0-py3-none-any.whl.metadata (4.0 kB)\n",
            "Requirement already satisfied: attrs in /usr/local/lib/python3.11/dist-packages (from rasterio) (25.3.0)\n",
            "Requirement already satisfied: certifi in /usr/local/lib/python3.11/dist-packages (from rasterio) (2025.1.31)\n",
            "Requirement already satisfied: click>=4.0 in /usr/local/lib/python3.11/dist-packages (from rasterio) (8.1.8)\n",
            "Collecting cligj>=0.5 (from rasterio)\n",
            "  Downloading cligj-0.7.2-py3-none-any.whl.metadata (5.0 kB)\n",
            "Requirement already satisfied: numpy>=1.24 in /usr/local/lib/python3.11/dist-packages (from rasterio) (2.0.2)\n",
            "Collecting click-plugins (from rasterio)\n",
            "  Downloading click_plugins-1.1.1-py2.py3-none-any.whl.metadata (6.4 kB)\n",
            "Requirement already satisfied: pyparsing in /usr/local/lib/python3.11/dist-packages (from rasterio) (3.2.3)\n",
            "Downloading rasterio-1.4.3-cp311-cp311-manylinux_2_17_x86_64.manylinux2014_x86_64.whl (22.2 MB)\n",
            "\u001b[2K   \u001b[90m━━━━━━━━━━━━━━━━━━━━━━━━━━━━━━━━━━━━━━━━\u001b[0m \u001b[32m22.2/22.2 MB\u001b[0m \u001b[31m28.9 MB/s\u001b[0m eta \u001b[36m0:00:00\u001b[0m\n",
            "\u001b[?25hDownloading cligj-0.7.2-py3-none-any.whl (7.1 kB)\n",
            "Downloading affine-2.4.0-py3-none-any.whl (15 kB)\n",
            "Downloading click_plugins-1.1.1-py2.py3-none-any.whl (7.5 kB)\n",
            "Installing collected packages: cligj, click-plugins, affine, rasterio\n",
            "Successfully installed affine-2.4.0 click-plugins-1.1.1 cligj-0.7.2 rasterio-1.4.3\n"
          ]
        }
      ]
    },
    {
      "cell_type": "code",
      "source": [
        "!pip install rasterstats"
      ],
      "metadata": {
        "colab": {
          "base_uri": "https://localhost:8080/"
        },
        "id": "o-aYfE_CAMkV",
        "outputId": "9e71614a-a290-42a5-f8f3-a5b43c73e991"
      },
      "execution_count": null,
      "outputs": [
        {
          "output_type": "stream",
          "name": "stdout",
          "text": [
            "Collecting rasterstats\n",
            "  Downloading rasterstats-0.20.0-py3-none-any.whl.metadata (4.2 kB)\n",
            "Requirement already satisfied: affine in /usr/local/lib/python3.11/dist-packages (from rasterstats) (2.4.0)\n",
            "Requirement already satisfied: click>7.1 in /usr/local/lib/python3.11/dist-packages (from rasterstats) (8.1.8)\n",
            "Requirement already satisfied: cligj>=0.4 in /usr/local/lib/python3.11/dist-packages (from rasterstats) (0.7.2)\n",
            "Collecting fiona (from rasterstats)\n",
            "  Downloading fiona-1.10.1-cp311-cp311-manylinux_2_17_x86_64.manylinux2014_x86_64.whl.metadata (56 kB)\n",
            "\u001b[2K     \u001b[90m━━━━━━━━━━━━━━━━━━━━━━━━━━━━━━━━━━━━━━━━\u001b[0m \u001b[32m56.6/56.6 kB\u001b[0m \u001b[31m3.0 MB/s\u001b[0m eta \u001b[36m0:00:00\u001b[0m\n",
            "\u001b[?25hRequirement already satisfied: numpy>=1.9 in /usr/local/lib/python3.11/dist-packages (from rasterstats) (2.0.2)\n",
            "Requirement already satisfied: rasterio>=1.0 in /usr/local/lib/python3.11/dist-packages (from rasterstats) (1.4.3)\n",
            "Requirement already satisfied: simplejson in /usr/local/lib/python3.11/dist-packages (from rasterstats) (3.20.1)\n",
            "Requirement already satisfied: shapely in /usr/local/lib/python3.11/dist-packages (from rasterstats) (2.1.0)\n",
            "Requirement already satisfied: attrs in /usr/local/lib/python3.11/dist-packages (from rasterio>=1.0->rasterstats) (25.3.0)\n",
            "Requirement already satisfied: certifi in /usr/local/lib/python3.11/dist-packages (from rasterio>=1.0->rasterstats) (2025.1.31)\n",
            "Requirement already satisfied: click-plugins in /usr/local/lib/python3.11/dist-packages (from rasterio>=1.0->rasterstats) (1.1.1)\n",
            "Requirement already satisfied: pyparsing in /usr/local/lib/python3.11/dist-packages (from rasterio>=1.0->rasterstats) (3.2.3)\n",
            "Downloading rasterstats-0.20.0-py3-none-any.whl (17 kB)\n",
            "Downloading fiona-1.10.1-cp311-cp311-manylinux_2_17_x86_64.manylinux2014_x86_64.whl (17.3 MB)\n",
            "\u001b[2K   \u001b[90m━━━━━━━━━━━━━━━━━━━━━━━━━━━━━━━━━━━━━━━━\u001b[0m \u001b[32m17.3/17.3 MB\u001b[0m \u001b[31m27.7 MB/s\u001b[0m eta \u001b[36m0:00:00\u001b[0m\n",
            "\u001b[?25hInstalling collected packages: fiona, rasterstats\n",
            "Successfully installed fiona-1.10.1 rasterstats-0.20.0\n"
          ]
        }
      ]
    },
    {
      "cell_type": "code",
      "source": [
        "import os\n",
        "os.environ['USE_PYGEOS'] = '0'\n",
        "import numpy as np\n",
        "import geopandas as gpd\n",
        "import matplotlib.pyplot as plt\n",
        "import rasterio\n",
        "import rasterio.transform\n",
        "import rasterio.mask\n",
        "import rasterio.warp\n",
        "import rasterio.windows\n",
        "import rasterstats\n",
        "import pandas as pd\n",
        "from scipy.signal import savgol_filter\n",
        "\n",
        "# for 3d plotting\n",
        "from mpl_toolkits.mplot3d import Axes3D\n",
        "# color\n",
        "from matplotlib.colors import LinearSegmentedColormap\n",
        "%matplotlib inline\n",
        "\n",
        "from rasterstats import zonal_stats\n",
        "from shapely.geometry import LineString\n",
        "from rasterio import features\n",
        "from shapely.geometry import shape\n",
        "\n",
        "# Machine Learning\n",
        "'''import scipy as sp\n",
        "import scipy.stats as stats\n",
        "from sklearn.ensemble import RandomForestRegressor\n",
        "from sklearn.tree import DecisionTreeClassifier\n",
        "from sklearn.model_selection import KFold\n",
        "from sklearn.model_selection import train_test_split\n",
        "from sklearn.model_selection import cross_validate'''"
      ],
      "metadata": {
        "colab": {
          "base_uri": "https://localhost:8080/",
          "height": 74
        },
        "id": "Zi1VUv3PAQLA",
        "outputId": "c7ce87ba-2940-45db-ec80-221f4a540d2e"
      },
      "execution_count": null,
      "outputs": [
        {
          "output_type": "execute_result",
          "data": {
            "text/plain": [
              "'import scipy as sp\\nimport scipy.stats as stats\\nfrom sklearn.ensemble import RandomForestRegressor\\nfrom sklearn.tree import DecisionTreeClassifier\\nfrom sklearn.model_selection import KFold\\nfrom sklearn.model_selection import train_test_split\\nfrom sklearn.model_selection import cross_validate'"
            ],
            "application/vnd.google.colaboratory.intrinsic+json": {
              "type": "string"
            }
          },
          "metadata": {},
          "execution_count": 4
        }
      ]
    },
    {
      "cell_type": "code",
      "source": [
        "from google.colab import drive\n",
        "drive.mount('/content/drive')"
      ],
      "metadata": {
        "colab": {
          "base_uri": "https://localhost:8080/"
        },
        "id": "1sAyksw-AXt0",
        "outputId": "f616f0c7-03d4-419c-f17b-4ab6e2b7f8a9"
      },
      "execution_count": null,
      "outputs": [
        {
          "output_type": "stream",
          "name": "stdout",
          "text": [
            "Mounted at /content/drive\n"
          ]
        }
      ]
    },
    {
      "cell_type": "code",
      "execution_count": null,
      "metadata": {
        "id": "5Tu5zXjJ_114"
      },
      "outputs": [],
      "source": [
        "# Read the yield and SOC data\n",
        "file_path = r'/content/drive/MyDrive/crop-yield-estimations-20-23.dta'\n",
        "yield_df = pd.read_stata(file_path)\n",
        "\n",
        "file_path = r'/content/drive/MyDrive/n111_soc_2022_data.dta'\n",
        "SOC22_df = pd.read_stata(file_path)\n",
        "\n",
        "#file_path = r'/content/drive/MyDrive/reshaped_SOC_data_23.csv'\n",
        "file_path = r'/content/drive/MyDrive/n30_appended_soc_data_nrri_04032024.dta'\n",
        "SOC23_df = pd.read_stata(file_path)\n"
      ]
    },
    {
      "cell_type": "code",
      "source": [
        "yield_df"
      ],
      "metadata": {
        "id": "pJJeNVCwEx8o",
        "colab": {
          "base_uri": "https://localhost:8080/",
          "height": 443
        },
        "outputId": "0c2ea4fc-5390-4705-dc2f-fc2b9c72d913"
      },
      "execution_count": null,
      "outputs": [
        {
          "output_type": "execute_result",
          "data": {
            "text/plain": [
              "    unique_id      village  plot_size_hectares  yield_per_hectare_20  \\\n",
              "0    10207063   ENDARAPADA            0.202340           5930.611816   \n",
              "1    10106052         SIHA            0.232691           6446.316895   \n",
              "2    10208079     SALAPADA            0.303510           1976.870605   \n",
              "3    10311093      DARPANI            0.222574           6739.331543   \n",
              "4    10515101   KHATUAPADA            0.202340           8401.700195   \n",
              "..        ...          ...                 ...                   ...   \n",
              "103  20616130     TARANGIA            0.202340           1976.870605   \n",
              "104  20616133     TARANGIA            0.374329           4007.170166   \n",
              "105  20413139     TOTAKANA            0.182106           5491.307129   \n",
              "106  10105045  MANGARAJPUR            0.252925           5930.611816   \n",
              "107  10105048  MANGARAJPUR            0.265571           5648.202148   \n",
              "\n",
              "     yield_per_hectare_21  yield_per_hectare_22  yield_per_hectare_23  \\\n",
              "0             6919.046875           7413.264648           6919.046875   \n",
              "1             6876.071777           6446.316895           7735.580566   \n",
              "2             6589.568359           2306.348877           4942.176270   \n",
              "3             7188.620605           5391.465332           4492.887695   \n",
              "4             8895.916992          11119.896484           9884.352539   \n",
              "..                    ...                   ...                   ...   \n",
              "103           2471.088135           4447.958496           4942.176270   \n",
              "104           4541.459473           5877.183105           6678.616699   \n",
              "105           4942.176270           7687.830078           4942.176270   \n",
              "106           7116.733887           7907.482422           4744.489258   \n",
              "107           4518.561523           5648.202148           5648.202148   \n",
              "\n",
              "     crop_cut_yield_per_hectare  \n",
              "0                   5177.066406  \n",
              "1                   5866.911133  \n",
              "2                   4636.161621  \n",
              "3                   4666.891113  \n",
              "4                   4505.380859  \n",
              "..                          ...  \n",
              "103                 4271.007812  \n",
              "104                 4376.892578  \n",
              "105                         NaN  \n",
              "106                 4751.023438  \n",
              "107                 5621.974121  \n",
              "\n",
              "[108 rows x 8 columns]"
            ],
            "text/html": [
              "\n",
              "  <div id=\"df-d4783132-e811-49b7-bf7d-58201a9133d6\" class=\"colab-df-container\">\n",
              "    <div>\n",
              "<style scoped>\n",
              "    .dataframe tbody tr th:only-of-type {\n",
              "        vertical-align: middle;\n",
              "    }\n",
              "\n",
              "    .dataframe tbody tr th {\n",
              "        vertical-align: top;\n",
              "    }\n",
              "\n",
              "    .dataframe thead th {\n",
              "        text-align: right;\n",
              "    }\n",
              "</style>\n",
              "<table border=\"1\" class=\"dataframe\">\n",
              "  <thead>\n",
              "    <tr style=\"text-align: right;\">\n",
              "      <th></th>\n",
              "      <th>unique_id</th>\n",
              "      <th>village</th>\n",
              "      <th>plot_size_hectares</th>\n",
              "      <th>yield_per_hectare_20</th>\n",
              "      <th>yield_per_hectare_21</th>\n",
              "      <th>yield_per_hectare_22</th>\n",
              "      <th>yield_per_hectare_23</th>\n",
              "      <th>crop_cut_yield_per_hectare</th>\n",
              "    </tr>\n",
              "  </thead>\n",
              "  <tbody>\n",
              "    <tr>\n",
              "      <th>0</th>\n",
              "      <td>10207063</td>\n",
              "      <td>ENDARAPADA</td>\n",
              "      <td>0.202340</td>\n",
              "      <td>5930.611816</td>\n",
              "      <td>6919.046875</td>\n",
              "      <td>7413.264648</td>\n",
              "      <td>6919.046875</td>\n",
              "      <td>5177.066406</td>\n",
              "    </tr>\n",
              "    <tr>\n",
              "      <th>1</th>\n",
              "      <td>10106052</td>\n",
              "      <td>SIHA</td>\n",
              "      <td>0.232691</td>\n",
              "      <td>6446.316895</td>\n",
              "      <td>6876.071777</td>\n",
              "      <td>6446.316895</td>\n",
              "      <td>7735.580566</td>\n",
              "      <td>5866.911133</td>\n",
              "    </tr>\n",
              "    <tr>\n",
              "      <th>2</th>\n",
              "      <td>10208079</td>\n",
              "      <td>SALAPADA</td>\n",
              "      <td>0.303510</td>\n",
              "      <td>1976.870605</td>\n",
              "      <td>6589.568359</td>\n",
              "      <td>2306.348877</td>\n",
              "      <td>4942.176270</td>\n",
              "      <td>4636.161621</td>\n",
              "    </tr>\n",
              "    <tr>\n",
              "      <th>3</th>\n",
              "      <td>10311093</td>\n",
              "      <td>DARPANI</td>\n",
              "      <td>0.222574</td>\n",
              "      <td>6739.331543</td>\n",
              "      <td>7188.620605</td>\n",
              "      <td>5391.465332</td>\n",
              "      <td>4492.887695</td>\n",
              "      <td>4666.891113</td>\n",
              "    </tr>\n",
              "    <tr>\n",
              "      <th>4</th>\n",
              "      <td>10515101</td>\n",
              "      <td>KHATUAPADA</td>\n",
              "      <td>0.202340</td>\n",
              "      <td>8401.700195</td>\n",
              "      <td>8895.916992</td>\n",
              "      <td>11119.896484</td>\n",
              "      <td>9884.352539</td>\n",
              "      <td>4505.380859</td>\n",
              "    </tr>\n",
              "    <tr>\n",
              "      <th>...</th>\n",
              "      <td>...</td>\n",
              "      <td>...</td>\n",
              "      <td>...</td>\n",
              "      <td>...</td>\n",
              "      <td>...</td>\n",
              "      <td>...</td>\n",
              "      <td>...</td>\n",
              "      <td>...</td>\n",
              "    </tr>\n",
              "    <tr>\n",
              "      <th>103</th>\n",
              "      <td>20616130</td>\n",
              "      <td>TARANGIA</td>\n",
              "      <td>0.202340</td>\n",
              "      <td>1976.870605</td>\n",
              "      <td>2471.088135</td>\n",
              "      <td>4447.958496</td>\n",
              "      <td>4942.176270</td>\n",
              "      <td>4271.007812</td>\n",
              "    </tr>\n",
              "    <tr>\n",
              "      <th>104</th>\n",
              "      <td>20616133</td>\n",
              "      <td>TARANGIA</td>\n",
              "      <td>0.374329</td>\n",
              "      <td>4007.170166</td>\n",
              "      <td>4541.459473</td>\n",
              "      <td>5877.183105</td>\n",
              "      <td>6678.616699</td>\n",
              "      <td>4376.892578</td>\n",
              "    </tr>\n",
              "    <tr>\n",
              "      <th>105</th>\n",
              "      <td>20413139</td>\n",
              "      <td>TOTAKANA</td>\n",
              "      <td>0.182106</td>\n",
              "      <td>5491.307129</td>\n",
              "      <td>4942.176270</td>\n",
              "      <td>7687.830078</td>\n",
              "      <td>4942.176270</td>\n",
              "      <td>NaN</td>\n",
              "    </tr>\n",
              "    <tr>\n",
              "      <th>106</th>\n",
              "      <td>10105045</td>\n",
              "      <td>MANGARAJPUR</td>\n",
              "      <td>0.252925</td>\n",
              "      <td>5930.611816</td>\n",
              "      <td>7116.733887</td>\n",
              "      <td>7907.482422</td>\n",
              "      <td>4744.489258</td>\n",
              "      <td>4751.023438</td>\n",
              "    </tr>\n",
              "    <tr>\n",
              "      <th>107</th>\n",
              "      <td>10105048</td>\n",
              "      <td>MANGARAJPUR</td>\n",
              "      <td>0.265571</td>\n",
              "      <td>5648.202148</td>\n",
              "      <td>4518.561523</td>\n",
              "      <td>5648.202148</td>\n",
              "      <td>5648.202148</td>\n",
              "      <td>5621.974121</td>\n",
              "    </tr>\n",
              "  </tbody>\n",
              "</table>\n",
              "<p>108 rows × 8 columns</p>\n",
              "</div>\n",
              "    <div class=\"colab-df-buttons\">\n",
              "\n",
              "  <div class=\"colab-df-container\">\n",
              "    <button class=\"colab-df-convert\" onclick=\"convertToInteractive('df-d4783132-e811-49b7-bf7d-58201a9133d6')\"\n",
              "            title=\"Convert this dataframe to an interactive table.\"\n",
              "            style=\"display:none;\">\n",
              "\n",
              "  <svg xmlns=\"http://www.w3.org/2000/svg\" height=\"24px\" viewBox=\"0 -960 960 960\">\n",
              "    <path d=\"M120-120v-720h720v720H120Zm60-500h600v-160H180v160Zm220 220h160v-160H400v160Zm0 220h160v-160H400v160ZM180-400h160v-160H180v160Zm440 0h160v-160H620v160ZM180-180h160v-160H180v160Zm440 0h160v-160H620v160Z\"/>\n",
              "  </svg>\n",
              "    </button>\n",
              "\n",
              "  <style>\n",
              "    .colab-df-container {\n",
              "      display:flex;\n",
              "      gap: 12px;\n",
              "    }\n",
              "\n",
              "    .colab-df-convert {\n",
              "      background-color: #E8F0FE;\n",
              "      border: none;\n",
              "      border-radius: 50%;\n",
              "      cursor: pointer;\n",
              "      display: none;\n",
              "      fill: #1967D2;\n",
              "      height: 32px;\n",
              "      padding: 0 0 0 0;\n",
              "      width: 32px;\n",
              "    }\n",
              "\n",
              "    .colab-df-convert:hover {\n",
              "      background-color: #E2EBFA;\n",
              "      box-shadow: 0px 1px 2px rgba(60, 64, 67, 0.3), 0px 1px 3px 1px rgba(60, 64, 67, 0.15);\n",
              "      fill: #174EA6;\n",
              "    }\n",
              "\n",
              "    .colab-df-buttons div {\n",
              "      margin-bottom: 4px;\n",
              "    }\n",
              "\n",
              "    [theme=dark] .colab-df-convert {\n",
              "      background-color: #3B4455;\n",
              "      fill: #D2E3FC;\n",
              "    }\n",
              "\n",
              "    [theme=dark] .colab-df-convert:hover {\n",
              "      background-color: #434B5C;\n",
              "      box-shadow: 0px 1px 3px 1px rgba(0, 0, 0, 0.15);\n",
              "      filter: drop-shadow(0px 1px 2px rgba(0, 0, 0, 0.3));\n",
              "      fill: #FFFFFF;\n",
              "    }\n",
              "  </style>\n",
              "\n",
              "    <script>\n",
              "      const buttonEl =\n",
              "        document.querySelector('#df-d4783132-e811-49b7-bf7d-58201a9133d6 button.colab-df-convert');\n",
              "      buttonEl.style.display =\n",
              "        google.colab.kernel.accessAllowed ? 'block' : 'none';\n",
              "\n",
              "      async function convertToInteractive(key) {\n",
              "        const element = document.querySelector('#df-d4783132-e811-49b7-bf7d-58201a9133d6');\n",
              "        const dataTable =\n",
              "          await google.colab.kernel.invokeFunction('convertToInteractive',\n",
              "                                                    [key], {});\n",
              "        if (!dataTable) return;\n",
              "\n",
              "        const docLinkHtml = 'Like what you see? Visit the ' +\n",
              "          '<a target=\"_blank\" href=https://colab.research.google.com/notebooks/data_table.ipynb>data table notebook</a>'\n",
              "          + ' to learn more about interactive tables.';\n",
              "        element.innerHTML = '';\n",
              "        dataTable['output_type'] = 'display_data';\n",
              "        await google.colab.output.renderOutput(dataTable, element);\n",
              "        const docLink = document.createElement('div');\n",
              "        docLink.innerHTML = docLinkHtml;\n",
              "        element.appendChild(docLink);\n",
              "      }\n",
              "    </script>\n",
              "  </div>\n",
              "\n",
              "\n",
              "    <div id=\"df-2d49afb6-a2b8-4471-962d-65ca6f23d33c\">\n",
              "      <button class=\"colab-df-quickchart\" onclick=\"quickchart('df-2d49afb6-a2b8-4471-962d-65ca6f23d33c')\"\n",
              "                title=\"Suggest charts\"\n",
              "                style=\"display:none;\">\n",
              "\n",
              "<svg xmlns=\"http://www.w3.org/2000/svg\" height=\"24px\"viewBox=\"0 0 24 24\"\n",
              "     width=\"24px\">\n",
              "    <g>\n",
              "        <path d=\"M19 3H5c-1.1 0-2 .9-2 2v14c0 1.1.9 2 2 2h14c1.1 0 2-.9 2-2V5c0-1.1-.9-2-2-2zM9 17H7v-7h2v7zm4 0h-2V7h2v10zm4 0h-2v-4h2v4z\"/>\n",
              "    </g>\n",
              "</svg>\n",
              "      </button>\n",
              "\n",
              "<style>\n",
              "  .colab-df-quickchart {\n",
              "      --bg-color: #E8F0FE;\n",
              "      --fill-color: #1967D2;\n",
              "      --hover-bg-color: #E2EBFA;\n",
              "      --hover-fill-color: #174EA6;\n",
              "      --disabled-fill-color: #AAA;\n",
              "      --disabled-bg-color: #DDD;\n",
              "  }\n",
              "\n",
              "  [theme=dark] .colab-df-quickchart {\n",
              "      --bg-color: #3B4455;\n",
              "      --fill-color: #D2E3FC;\n",
              "      --hover-bg-color: #434B5C;\n",
              "      --hover-fill-color: #FFFFFF;\n",
              "      --disabled-bg-color: #3B4455;\n",
              "      --disabled-fill-color: #666;\n",
              "  }\n",
              "\n",
              "  .colab-df-quickchart {\n",
              "    background-color: var(--bg-color);\n",
              "    border: none;\n",
              "    border-radius: 50%;\n",
              "    cursor: pointer;\n",
              "    display: none;\n",
              "    fill: var(--fill-color);\n",
              "    height: 32px;\n",
              "    padding: 0;\n",
              "    width: 32px;\n",
              "  }\n",
              "\n",
              "  .colab-df-quickchart:hover {\n",
              "    background-color: var(--hover-bg-color);\n",
              "    box-shadow: 0 1px 2px rgba(60, 64, 67, 0.3), 0 1px 3px 1px rgba(60, 64, 67, 0.15);\n",
              "    fill: var(--button-hover-fill-color);\n",
              "  }\n",
              "\n",
              "  .colab-df-quickchart-complete:disabled,\n",
              "  .colab-df-quickchart-complete:disabled:hover {\n",
              "    background-color: var(--disabled-bg-color);\n",
              "    fill: var(--disabled-fill-color);\n",
              "    box-shadow: none;\n",
              "  }\n",
              "\n",
              "  .colab-df-spinner {\n",
              "    border: 2px solid var(--fill-color);\n",
              "    border-color: transparent;\n",
              "    border-bottom-color: var(--fill-color);\n",
              "    animation:\n",
              "      spin 1s steps(1) infinite;\n",
              "  }\n",
              "\n",
              "  @keyframes spin {\n",
              "    0% {\n",
              "      border-color: transparent;\n",
              "      border-bottom-color: var(--fill-color);\n",
              "      border-left-color: var(--fill-color);\n",
              "    }\n",
              "    20% {\n",
              "      border-color: transparent;\n",
              "      border-left-color: var(--fill-color);\n",
              "      border-top-color: var(--fill-color);\n",
              "    }\n",
              "    30% {\n",
              "      border-color: transparent;\n",
              "      border-left-color: var(--fill-color);\n",
              "      border-top-color: var(--fill-color);\n",
              "      border-right-color: var(--fill-color);\n",
              "    }\n",
              "    40% {\n",
              "      border-color: transparent;\n",
              "      border-right-color: var(--fill-color);\n",
              "      border-top-color: var(--fill-color);\n",
              "    }\n",
              "    60% {\n",
              "      border-color: transparent;\n",
              "      border-right-color: var(--fill-color);\n",
              "    }\n",
              "    80% {\n",
              "      border-color: transparent;\n",
              "      border-right-color: var(--fill-color);\n",
              "      border-bottom-color: var(--fill-color);\n",
              "    }\n",
              "    90% {\n",
              "      border-color: transparent;\n",
              "      border-bottom-color: var(--fill-color);\n",
              "    }\n",
              "  }\n",
              "</style>\n",
              "\n",
              "      <script>\n",
              "        async function quickchart(key) {\n",
              "          const quickchartButtonEl =\n",
              "            document.querySelector('#' + key + ' button');\n",
              "          quickchartButtonEl.disabled = true;  // To prevent multiple clicks.\n",
              "          quickchartButtonEl.classList.add('colab-df-spinner');\n",
              "          try {\n",
              "            const charts = await google.colab.kernel.invokeFunction(\n",
              "                'suggestCharts', [key], {});\n",
              "          } catch (error) {\n",
              "            console.error('Error during call to suggestCharts:', error);\n",
              "          }\n",
              "          quickchartButtonEl.classList.remove('colab-df-spinner');\n",
              "          quickchartButtonEl.classList.add('colab-df-quickchart-complete');\n",
              "        }\n",
              "        (() => {\n",
              "          let quickchartButtonEl =\n",
              "            document.querySelector('#df-2d49afb6-a2b8-4471-962d-65ca6f23d33c button');\n",
              "          quickchartButtonEl.style.display =\n",
              "            google.colab.kernel.accessAllowed ? 'block' : 'none';\n",
              "        })();\n",
              "      </script>\n",
              "    </div>\n",
              "\n",
              "  <div id=\"id_b32624cb-2791-43fe-a30e-e0e99b52f29a\">\n",
              "    <style>\n",
              "      .colab-df-generate {\n",
              "        background-color: #E8F0FE;\n",
              "        border: none;\n",
              "        border-radius: 50%;\n",
              "        cursor: pointer;\n",
              "        display: none;\n",
              "        fill: #1967D2;\n",
              "        height: 32px;\n",
              "        padding: 0 0 0 0;\n",
              "        width: 32px;\n",
              "      }\n",
              "\n",
              "      .colab-df-generate:hover {\n",
              "        background-color: #E2EBFA;\n",
              "        box-shadow: 0px 1px 2px rgba(60, 64, 67, 0.3), 0px 1px 3px 1px rgba(60, 64, 67, 0.15);\n",
              "        fill: #174EA6;\n",
              "      }\n",
              "\n",
              "      [theme=dark] .colab-df-generate {\n",
              "        background-color: #3B4455;\n",
              "        fill: #D2E3FC;\n",
              "      }\n",
              "\n",
              "      [theme=dark] .colab-df-generate:hover {\n",
              "        background-color: #434B5C;\n",
              "        box-shadow: 0px 1px 3px 1px rgba(0, 0, 0, 0.15);\n",
              "        filter: drop-shadow(0px 1px 2px rgba(0, 0, 0, 0.3));\n",
              "        fill: #FFFFFF;\n",
              "      }\n",
              "    </style>\n",
              "    <button class=\"colab-df-generate\" onclick=\"generateWithVariable('yield_df')\"\n",
              "            title=\"Generate code using this dataframe.\"\n",
              "            style=\"display:none;\">\n",
              "\n",
              "  <svg xmlns=\"http://www.w3.org/2000/svg\" height=\"24px\"viewBox=\"0 0 24 24\"\n",
              "       width=\"24px\">\n",
              "    <path d=\"M7,19H8.4L18.45,9,17,7.55,7,17.6ZM5,21V16.75L18.45,3.32a2,2,0,0,1,2.83,0l1.4,1.43a1.91,1.91,0,0,1,.58,1.4,1.91,1.91,0,0,1-.58,1.4L9.25,21ZM18.45,9,17,7.55Zm-12,3A5.31,5.31,0,0,0,4.9,8.1,5.31,5.31,0,0,0,1,6.5,5.31,5.31,0,0,0,4.9,4.9,5.31,5.31,0,0,0,6.5,1,5.31,5.31,0,0,0,8.1,4.9,5.31,5.31,0,0,0,12,6.5,5.46,5.46,0,0,0,6.5,12Z\"/>\n",
              "  </svg>\n",
              "    </button>\n",
              "    <script>\n",
              "      (() => {\n",
              "      const buttonEl =\n",
              "        document.querySelector('#id_b32624cb-2791-43fe-a30e-e0e99b52f29a button.colab-df-generate');\n",
              "      buttonEl.style.display =\n",
              "        google.colab.kernel.accessAllowed ? 'block' : 'none';\n",
              "\n",
              "      buttonEl.onclick = () => {\n",
              "        google.colab.notebook.generateWithVariable('yield_df');\n",
              "      }\n",
              "      })();\n",
              "    </script>\n",
              "  </div>\n",
              "\n",
              "    </div>\n",
              "  </div>\n"
            ],
            "application/vnd.google.colaboratory.intrinsic+json": {
              "type": "dataframe",
              "variable_name": "yield_df",
              "summary": "{\n  \"name\": \"yield_df\",\n  \"rows\": 108,\n  \"fields\": [\n    {\n      \"column\": \"unique_id\",\n      \"properties\": {\n        \"dtype\": \"string\",\n        \"num_unique_values\": 108,\n        \"samples\": [\n          \"10207066\",\n          \"10208078\",\n          \"10515101\"\n        ],\n        \"semantic_type\": \"\",\n        \"description\": \"\"\n      }\n    },\n    {\n      \"column\": \"village\",\n      \"properties\": {\n        \"dtype\": \"category\",\n        \"num_unique_values\": 16,\n        \"samples\": [\n          \"ENDARAPADA\",\n          \"SIHA\",\n          \"GODIMAGURA\"\n        ],\n        \"semantic_type\": \"\",\n        \"description\": \"\"\n      }\n    },\n    {\n      \"column\": \"plot_size_hectares\",\n      \"properties\": {\n        \"dtype\": \"float32\",\n        \"num_unique_values\": 28,\n        \"samples\": [\n          0.37432900071144104,\n          0.21498624980449677,\n          0.4046800136566162\n        ],\n        \"semantic_type\": \"\",\n        \"description\": \"\"\n      }\n    },\n    {\n      \"column\": \"yield_per_hectare_20\",\n      \"properties\": {\n        \"dtype\": \"float32\",\n        \"num_unique_values\": 64,\n        \"samples\": [\n          2246.44384765625,\n          8014.34033203125,\n          5930.61181640625\n        ],\n        \"semantic_type\": \"\",\n        \"description\": \"\"\n      }\n    },\n    {\n      \"column\": \"yield_per_hectare_21\",\n      \"properties\": {\n        \"dtype\": \"float32\",\n        \"num_unique_values\": 68,\n        \"samples\": [\n          2920.377197265625,\n          6721.35986328125,\n          8895.9169921875\n        ],\n        \"semantic_type\": \"\",\n        \"description\": \"\"\n      }\n    },\n    {\n      \"column\": \"yield_per_hectare_22\",\n      \"properties\": {\n        \"dtype\": \"float32\",\n        \"num_unique_values\": 69,\n        \"samples\": [\n          2995.258544921875,\n          7413.2646484375,\n          3594.310302734375\n        ],\n        \"semantic_type\": \"\",\n        \"description\": \"\"\n      }\n    },\n    {\n      \"column\": \"yield_per_hectare_23\",\n      \"properties\": {\n        \"dtype\": \"float32\",\n        \"num_unique_values\": 65,\n        \"samples\": [\n          4349.115234375,\n          4181.841796875,\n          6919.046875\n        ],\n        \"semantic_type\": \"\",\n        \"description\": \"\"\n      }\n    },\n    {\n      \"column\": \"crop_cut_yield_per_hectare\",\n      \"properties\": {\n        \"dtype\": \"float32\",\n        \"num_unique_values\": 94,\n        \"samples\": [\n          6076.26025390625,\n          5848.93017578125,\n          4174.85888671875\n        ],\n        \"semantic_type\": \"\",\n        \"description\": \"\"\n      }\n    }\n  ]\n}"
            }
          },
          "metadata": {},
          "execution_count": 7
        }
      ]
    },
    {
      "cell_type": "markdown",
      "source": [
        "#All Yield Calculations"
      ],
      "metadata": {
        "id": "jAHrCbm8bhHn"
      }
    },
    {
      "cell_type": "code",
      "source": [
        "yieldt = yield_df.rename(columns={'yield_per_hectare_20': 2020,\n",
        "                         'yield_per_hectare_21': 2021,\n",
        "                         'yield_per_hectare_22': 2022,\n",
        "                         'yield_per_hectare_23': 2023})\n",
        "yieldt.head()\n"
      ],
      "metadata": {
        "id": "rMOD0igVbg3p",
        "colab": {
          "base_uri": "https://localhost:8080/",
          "height": 226
        },
        "outputId": "0e7ac072-1fa1-4c5c-f18b-b1b063dc132d"
      },
      "execution_count": null,
      "outputs": [
        {
          "output_type": "execute_result",
          "data": {
            "text/plain": [
              "  unique_id     village  plot_size_hectares         2020         2021  \\\n",
              "0  10207063  ENDARAPADA            0.202340  5930.611816  6919.046875   \n",
              "1  10106052        SIHA            0.232691  6446.316895  6876.071777   \n",
              "2  10208079    SALAPADA            0.303510  1976.870605  6589.568359   \n",
              "3  10311093     DARPANI            0.222574  6739.331543  7188.620605   \n",
              "4  10515101  KHATUAPADA            0.202340  8401.700195  8895.916992   \n",
              "\n",
              "           2022         2023  crop_cut_yield_per_hectare  \n",
              "0   7413.264648  6919.046875                 5177.066406  \n",
              "1   6446.316895  7735.580566                 5866.911133  \n",
              "2   2306.348877  4942.176270                 4636.161621  \n",
              "3   5391.465332  4492.887695                 4666.891113  \n",
              "4  11119.896484  9884.352539                 4505.380859  "
            ],
            "text/html": [
              "\n",
              "  <div id=\"df-4bb3e548-913d-46a9-ad34-fe5a0c269322\" class=\"colab-df-container\">\n",
              "    <div>\n",
              "<style scoped>\n",
              "    .dataframe tbody tr th:only-of-type {\n",
              "        vertical-align: middle;\n",
              "    }\n",
              "\n",
              "    .dataframe tbody tr th {\n",
              "        vertical-align: top;\n",
              "    }\n",
              "\n",
              "    .dataframe thead th {\n",
              "        text-align: right;\n",
              "    }\n",
              "</style>\n",
              "<table border=\"1\" class=\"dataframe\">\n",
              "  <thead>\n",
              "    <tr style=\"text-align: right;\">\n",
              "      <th></th>\n",
              "      <th>unique_id</th>\n",
              "      <th>village</th>\n",
              "      <th>plot_size_hectares</th>\n",
              "      <th>2020</th>\n",
              "      <th>2021</th>\n",
              "      <th>2022</th>\n",
              "      <th>2023</th>\n",
              "      <th>crop_cut_yield_per_hectare</th>\n",
              "    </tr>\n",
              "  </thead>\n",
              "  <tbody>\n",
              "    <tr>\n",
              "      <th>0</th>\n",
              "      <td>10207063</td>\n",
              "      <td>ENDARAPADA</td>\n",
              "      <td>0.202340</td>\n",
              "      <td>5930.611816</td>\n",
              "      <td>6919.046875</td>\n",
              "      <td>7413.264648</td>\n",
              "      <td>6919.046875</td>\n",
              "      <td>5177.066406</td>\n",
              "    </tr>\n",
              "    <tr>\n",
              "      <th>1</th>\n",
              "      <td>10106052</td>\n",
              "      <td>SIHA</td>\n",
              "      <td>0.232691</td>\n",
              "      <td>6446.316895</td>\n",
              "      <td>6876.071777</td>\n",
              "      <td>6446.316895</td>\n",
              "      <td>7735.580566</td>\n",
              "      <td>5866.911133</td>\n",
              "    </tr>\n",
              "    <tr>\n",
              "      <th>2</th>\n",
              "      <td>10208079</td>\n",
              "      <td>SALAPADA</td>\n",
              "      <td>0.303510</td>\n",
              "      <td>1976.870605</td>\n",
              "      <td>6589.568359</td>\n",
              "      <td>2306.348877</td>\n",
              "      <td>4942.176270</td>\n",
              "      <td>4636.161621</td>\n",
              "    </tr>\n",
              "    <tr>\n",
              "      <th>3</th>\n",
              "      <td>10311093</td>\n",
              "      <td>DARPANI</td>\n",
              "      <td>0.222574</td>\n",
              "      <td>6739.331543</td>\n",
              "      <td>7188.620605</td>\n",
              "      <td>5391.465332</td>\n",
              "      <td>4492.887695</td>\n",
              "      <td>4666.891113</td>\n",
              "    </tr>\n",
              "    <tr>\n",
              "      <th>4</th>\n",
              "      <td>10515101</td>\n",
              "      <td>KHATUAPADA</td>\n",
              "      <td>0.202340</td>\n",
              "      <td>8401.700195</td>\n",
              "      <td>8895.916992</td>\n",
              "      <td>11119.896484</td>\n",
              "      <td>9884.352539</td>\n",
              "      <td>4505.380859</td>\n",
              "    </tr>\n",
              "  </tbody>\n",
              "</table>\n",
              "</div>\n",
              "    <div class=\"colab-df-buttons\">\n",
              "\n",
              "  <div class=\"colab-df-container\">\n",
              "    <button class=\"colab-df-convert\" onclick=\"convertToInteractive('df-4bb3e548-913d-46a9-ad34-fe5a0c269322')\"\n",
              "            title=\"Convert this dataframe to an interactive table.\"\n",
              "            style=\"display:none;\">\n",
              "\n",
              "  <svg xmlns=\"http://www.w3.org/2000/svg\" height=\"24px\" viewBox=\"0 -960 960 960\">\n",
              "    <path d=\"M120-120v-720h720v720H120Zm60-500h600v-160H180v160Zm220 220h160v-160H400v160Zm0 220h160v-160H400v160ZM180-400h160v-160H180v160Zm440 0h160v-160H620v160ZM180-180h160v-160H180v160Zm440 0h160v-160H620v160Z\"/>\n",
              "  </svg>\n",
              "    </button>\n",
              "\n",
              "  <style>\n",
              "    .colab-df-container {\n",
              "      display:flex;\n",
              "      gap: 12px;\n",
              "    }\n",
              "\n",
              "    .colab-df-convert {\n",
              "      background-color: #E8F0FE;\n",
              "      border: none;\n",
              "      border-radius: 50%;\n",
              "      cursor: pointer;\n",
              "      display: none;\n",
              "      fill: #1967D2;\n",
              "      height: 32px;\n",
              "      padding: 0 0 0 0;\n",
              "      width: 32px;\n",
              "    }\n",
              "\n",
              "    .colab-df-convert:hover {\n",
              "      background-color: #E2EBFA;\n",
              "      box-shadow: 0px 1px 2px rgba(60, 64, 67, 0.3), 0px 1px 3px 1px rgba(60, 64, 67, 0.15);\n",
              "      fill: #174EA6;\n",
              "    }\n",
              "\n",
              "    .colab-df-buttons div {\n",
              "      margin-bottom: 4px;\n",
              "    }\n",
              "\n",
              "    [theme=dark] .colab-df-convert {\n",
              "      background-color: #3B4455;\n",
              "      fill: #D2E3FC;\n",
              "    }\n",
              "\n",
              "    [theme=dark] .colab-df-convert:hover {\n",
              "      background-color: #434B5C;\n",
              "      box-shadow: 0px 1px 3px 1px rgba(0, 0, 0, 0.15);\n",
              "      filter: drop-shadow(0px 1px 2px rgba(0, 0, 0, 0.3));\n",
              "      fill: #FFFFFF;\n",
              "    }\n",
              "  </style>\n",
              "\n",
              "    <script>\n",
              "      const buttonEl =\n",
              "        document.querySelector('#df-4bb3e548-913d-46a9-ad34-fe5a0c269322 button.colab-df-convert');\n",
              "      buttonEl.style.display =\n",
              "        google.colab.kernel.accessAllowed ? 'block' : 'none';\n",
              "\n",
              "      async function convertToInteractive(key) {\n",
              "        const element = document.querySelector('#df-4bb3e548-913d-46a9-ad34-fe5a0c269322');\n",
              "        const dataTable =\n",
              "          await google.colab.kernel.invokeFunction('convertToInteractive',\n",
              "                                                    [key], {});\n",
              "        if (!dataTable) return;\n",
              "\n",
              "        const docLinkHtml = 'Like what you see? Visit the ' +\n",
              "          '<a target=\"_blank\" href=https://colab.research.google.com/notebooks/data_table.ipynb>data table notebook</a>'\n",
              "          + ' to learn more about interactive tables.';\n",
              "        element.innerHTML = '';\n",
              "        dataTable['output_type'] = 'display_data';\n",
              "        await google.colab.output.renderOutput(dataTable, element);\n",
              "        const docLink = document.createElement('div');\n",
              "        docLink.innerHTML = docLinkHtml;\n",
              "        element.appendChild(docLink);\n",
              "      }\n",
              "    </script>\n",
              "  </div>\n",
              "\n",
              "\n",
              "    <div id=\"df-6e8fe41f-5027-4e77-9f3d-880879414890\">\n",
              "      <button class=\"colab-df-quickchart\" onclick=\"quickchart('df-6e8fe41f-5027-4e77-9f3d-880879414890')\"\n",
              "                title=\"Suggest charts\"\n",
              "                style=\"display:none;\">\n",
              "\n",
              "<svg xmlns=\"http://www.w3.org/2000/svg\" height=\"24px\"viewBox=\"0 0 24 24\"\n",
              "     width=\"24px\">\n",
              "    <g>\n",
              "        <path d=\"M19 3H5c-1.1 0-2 .9-2 2v14c0 1.1.9 2 2 2h14c1.1 0 2-.9 2-2V5c0-1.1-.9-2-2-2zM9 17H7v-7h2v7zm4 0h-2V7h2v10zm4 0h-2v-4h2v4z\"/>\n",
              "    </g>\n",
              "</svg>\n",
              "      </button>\n",
              "\n",
              "<style>\n",
              "  .colab-df-quickchart {\n",
              "      --bg-color: #E8F0FE;\n",
              "      --fill-color: #1967D2;\n",
              "      --hover-bg-color: #E2EBFA;\n",
              "      --hover-fill-color: #174EA6;\n",
              "      --disabled-fill-color: #AAA;\n",
              "      --disabled-bg-color: #DDD;\n",
              "  }\n",
              "\n",
              "  [theme=dark] .colab-df-quickchart {\n",
              "      --bg-color: #3B4455;\n",
              "      --fill-color: #D2E3FC;\n",
              "      --hover-bg-color: #434B5C;\n",
              "      --hover-fill-color: #FFFFFF;\n",
              "      --disabled-bg-color: #3B4455;\n",
              "      --disabled-fill-color: #666;\n",
              "  }\n",
              "\n",
              "  .colab-df-quickchart {\n",
              "    background-color: var(--bg-color);\n",
              "    border: none;\n",
              "    border-radius: 50%;\n",
              "    cursor: pointer;\n",
              "    display: none;\n",
              "    fill: var(--fill-color);\n",
              "    height: 32px;\n",
              "    padding: 0;\n",
              "    width: 32px;\n",
              "  }\n",
              "\n",
              "  .colab-df-quickchart:hover {\n",
              "    background-color: var(--hover-bg-color);\n",
              "    box-shadow: 0 1px 2px rgba(60, 64, 67, 0.3), 0 1px 3px 1px rgba(60, 64, 67, 0.15);\n",
              "    fill: var(--button-hover-fill-color);\n",
              "  }\n",
              "\n",
              "  .colab-df-quickchart-complete:disabled,\n",
              "  .colab-df-quickchart-complete:disabled:hover {\n",
              "    background-color: var(--disabled-bg-color);\n",
              "    fill: var(--disabled-fill-color);\n",
              "    box-shadow: none;\n",
              "  }\n",
              "\n",
              "  .colab-df-spinner {\n",
              "    border: 2px solid var(--fill-color);\n",
              "    border-color: transparent;\n",
              "    border-bottom-color: var(--fill-color);\n",
              "    animation:\n",
              "      spin 1s steps(1) infinite;\n",
              "  }\n",
              "\n",
              "  @keyframes spin {\n",
              "    0% {\n",
              "      border-color: transparent;\n",
              "      border-bottom-color: var(--fill-color);\n",
              "      border-left-color: var(--fill-color);\n",
              "    }\n",
              "    20% {\n",
              "      border-color: transparent;\n",
              "      border-left-color: var(--fill-color);\n",
              "      border-top-color: var(--fill-color);\n",
              "    }\n",
              "    30% {\n",
              "      border-color: transparent;\n",
              "      border-left-color: var(--fill-color);\n",
              "      border-top-color: var(--fill-color);\n",
              "      border-right-color: var(--fill-color);\n",
              "    }\n",
              "    40% {\n",
              "      border-color: transparent;\n",
              "      border-right-color: var(--fill-color);\n",
              "      border-top-color: var(--fill-color);\n",
              "    }\n",
              "    60% {\n",
              "      border-color: transparent;\n",
              "      border-right-color: var(--fill-color);\n",
              "    }\n",
              "    80% {\n",
              "      border-color: transparent;\n",
              "      border-right-color: var(--fill-color);\n",
              "      border-bottom-color: var(--fill-color);\n",
              "    }\n",
              "    90% {\n",
              "      border-color: transparent;\n",
              "      border-bottom-color: var(--fill-color);\n",
              "    }\n",
              "  }\n",
              "</style>\n",
              "\n",
              "      <script>\n",
              "        async function quickchart(key) {\n",
              "          const quickchartButtonEl =\n",
              "            document.querySelector('#' + key + ' button');\n",
              "          quickchartButtonEl.disabled = true;  // To prevent multiple clicks.\n",
              "          quickchartButtonEl.classList.add('colab-df-spinner');\n",
              "          try {\n",
              "            const charts = await google.colab.kernel.invokeFunction(\n",
              "                'suggestCharts', [key], {});\n",
              "          } catch (error) {\n",
              "            console.error('Error during call to suggestCharts:', error);\n",
              "          }\n",
              "          quickchartButtonEl.classList.remove('colab-df-spinner');\n",
              "          quickchartButtonEl.classList.add('colab-df-quickchart-complete');\n",
              "        }\n",
              "        (() => {\n",
              "          let quickchartButtonEl =\n",
              "            document.querySelector('#df-6e8fe41f-5027-4e77-9f3d-880879414890 button');\n",
              "          quickchartButtonEl.style.display =\n",
              "            google.colab.kernel.accessAllowed ? 'block' : 'none';\n",
              "        })();\n",
              "      </script>\n",
              "    </div>\n",
              "\n",
              "    </div>\n",
              "  </div>\n"
            ],
            "application/vnd.google.colaboratory.intrinsic+json": {
              "type": "dataframe",
              "variable_name": "yieldt",
              "summary": "{\n  \"name\": \"yieldt\",\n  \"rows\": 108,\n  \"fields\": [\n    {\n      \"column\": \"unique_id\",\n      \"properties\": {\n        \"dtype\": \"string\",\n        \"num_unique_values\": 108,\n        \"samples\": [\n          \"10207066\",\n          \"10208078\",\n          \"10515101\"\n        ],\n        \"semantic_type\": \"\",\n        \"description\": \"\"\n      }\n    },\n    {\n      \"column\": \"village\",\n      \"properties\": {\n        \"dtype\": \"category\",\n        \"num_unique_values\": 16,\n        \"samples\": [\n          \"ENDARAPADA\",\n          \"SIHA\",\n          \"GODIMAGURA\"\n        ],\n        \"semantic_type\": \"\",\n        \"description\": \"\"\n      }\n    },\n    {\n      \"column\": \"plot_size_hectares\",\n      \"properties\": {\n        \"dtype\": \"float32\",\n        \"num_unique_values\": 28,\n        \"samples\": [\n          0.37432900071144104,\n          0.21498624980449677,\n          0.4046800136566162\n        ],\n        \"semantic_type\": \"\",\n        \"description\": \"\"\n      }\n    },\n    {\n      \"column\": 2020,\n      \"properties\": {\n        \"dtype\": \"float32\",\n        \"num_unique_values\": 64,\n        \"samples\": [\n          2246.44384765625,\n          8014.34033203125,\n          5930.61181640625\n        ],\n        \"semantic_type\": \"\",\n        \"description\": \"\"\n      }\n    },\n    {\n      \"column\": 2021,\n      \"properties\": {\n        \"dtype\": \"float32\",\n        \"num_unique_values\": 68,\n        \"samples\": [\n          2920.377197265625,\n          6721.35986328125,\n          8895.9169921875\n        ],\n        \"semantic_type\": \"\",\n        \"description\": \"\"\n      }\n    },\n    {\n      \"column\": 2022,\n      \"properties\": {\n        \"dtype\": \"float32\",\n        \"num_unique_values\": 69,\n        \"samples\": [\n          2995.258544921875,\n          7413.2646484375,\n          3594.310302734375\n        ],\n        \"semantic_type\": \"\",\n        \"description\": \"\"\n      }\n    },\n    {\n      \"column\": 2023,\n      \"properties\": {\n        \"dtype\": \"float32\",\n        \"num_unique_values\": 65,\n        \"samples\": [\n          4349.115234375,\n          4181.841796875,\n          6919.046875\n        ],\n        \"semantic_type\": \"\",\n        \"description\": \"\"\n      }\n    },\n    {\n      \"column\": \"crop_cut_yield_per_hectare\",\n      \"properties\": {\n        \"dtype\": \"float32\",\n        \"num_unique_values\": 94,\n        \"samples\": [\n          6076.26025390625,\n          5848.93017578125,\n          4174.85888671875\n        ],\n        \"semantic_type\": \"\",\n        \"description\": \"\"\n      }\n    }\n  ]\n}"
            }
          },
          "metadata": {},
          "execution_count": 25
        }
      ]
    },
    {
      "cell_type": "code",
      "source": [
        "yield_2223=pd.melt(yieldt.loc[:, ['unique_id', 'plot_size_hectares','village',\n",
        "                                    2022,\n",
        "                                    2023]],\n",
        "                   id_vars=['unique_id','plot_size_hectares','village'],\n",
        "                   var_name='year', value_name='yield_per_hectare')\n",
        "#yield only for 2022 and 2023\n",
        "yield_2223dd = yieldt[['unique_id','plot_size_hectares','village', 2022, 2023]]\n",
        "yield_2223\n",
        "SOC23id= SOC23_df[['unique_id', 'assignment']]\n",
        "yield_2223id=  yield_2223.merge(SOC23id, on=['unique_id'], how='inner')[[\"year\", \"yield_per_hectare\", \"assignment\", 'plot_size_hectares']]"
      ],
      "metadata": {
        "id": "qVJaaBakeCLU"
      },
      "execution_count": null,
      "outputs": []
    },
    {
      "cell_type": "markdown",
      "source": [
        "###Yield graph"
      ],
      "metadata": {
        "id": "nXHBu7RR1T6P"
      }
    },
    {
      "cell_type": "code",
      "source": [
        "yield_2023=pd.melt(yieldt.loc[:, ['unique_id',\n",
        "                                   2020,\n",
        "                                   2021,\n",
        "                                    2022,\n",
        "                                    2023]],\n",
        "                   id_vars=['unique_id'],\n",
        "                   var_name='year', value_name='yield_per_hectare')\n",
        "SOC23id= SOC23_df[['unique_id', 'assignment']]\n",
        "yield20_23=  yield_2023.merge(SOC23id, on=['unique_id'], how='inner')[[\"year\", \"yield_per_hectare\", \"assignment\"]]\n",
        "yield20_23c= yield20_23[yield20_23['assignment'] == \"Control\"].groupby('year')['yield_per_hectare'].mean().reset_index()\n",
        "yield20_23t= yield20_23[yield20_23['assignment'] == \"Treatment\"].groupby('year')['yield_per_hectare'].mean().reset_index()\n",
        "#yield20_23= yield20_23.groupby('year')['yield_per_hectare'].mean().reset_index()\n",
        "#yield20_23[yield20_23['assignment'] == \"Treatment\"]"
      ],
      "metadata": {
        "id": "zfM0vYCbz2Sy"
      },
      "execution_count": null,
      "outputs": []
    },
    {
      "cell_type": "code",
      "source": [
        "import pandas as pd\n",
        "import matplotlib.pyplot as plt\n",
        "import seaborn as sns\n",
        "import datetime\n",
        "data = {'year': yield20_23[\"year\"],\n",
        "        'Group': yield20_23[\"assignment\"],\n",
        "        'yield': yield20_23[\"yield_per_hectare\"]}\n",
        "df = pd.DataFrame(data)\n",
        "\n",
        "# Line plot\n",
        "sns.lineplot(data=df, x='year', y='yield', hue='Group', marker='o')\n",
        "plt.axvline(x=2022.5, color='r', linestyle='--', linewidth=2)\n",
        "plt.title('Yield Trends Between 2020 and 2023')\n",
        "plt.xticks(rotation=45, ha='right')\n",
        "plt.xlabel('Time Period')\n",
        "plt.ylim(0, 10000)\n",
        "plt.xlim(2020,2023)\n",
        "plt.legend(loc='lower left')\n",
        "plt.ylabel('Average Yield Per Hectare')\n",
        "plt.show()"
      ],
      "metadata": {
        "colab": {
          "base_uri": "https://localhost:8080/",
          "height": 502
        },
        "id": "36u4pZbCra62",
        "outputId": "bcb762b4-1e17-46f9-cb03-df34b1b96336"
      },
      "execution_count": null,
      "outputs": [
        {
          "output_type": "display_data",
          "data": {
            "text/plain": [
              "<Figure size 640x480 with 1 Axes>"
            ],
            "image/png": "[encoded data removed]"
          },
          "metadata": {}
        }
      ]
    },
    {
      "cell_type": "code",
      "source": [
        "yield_2223id['plot_size_hectares'].mean()"
      ],
      "metadata": {
        "colab": {
          "base_uri": "https://localhost:8080/"
        },
        "id": "EOPGtGUpbceQ",
        "outputId": "83e9d72f-0b91-4a42-b96b-318bae2576f4"
      },
      "execution_count": null,
      "outputs": [
        {
          "output_type": "execute_result",
          "data": {
            "text/plain": [
              "np.float32(0.2819678)"
            ]
          },
          "metadata": {},
          "execution_count": 22
        }
      ]
    },
    {
      "cell_type": "code",
      "source": [
        "numvillages=yield_2223id['village'].nunique()\n",
        "numvillages"
      ],
      "metadata": {
        "id": "-P5DBCgAS6QI"
      },
      "execution_count": null,
      "outputs": []
    },
    {
      "cell_type": "code",
      "source": [
        "SOC23id= SOC23_df[['unique_id', 'assignment']]\n",
        "yield_2223id= yield_2223dd.merge(SOC23id, on=['unique_id'], how='inner')\n",
        "yield_2223diff= yield_2223id[['assignment','2022', '2023']]\n",
        "#yield_2223.pivot_table(index=[\"unique_id\", \"assignment\"],columns='year').stack(level=0)\n",
        "mean_yieldctrl_before=yield_2223diff.groupby('assignment').mean().iloc[0, 0]\n",
        "mean_yieldctrl_before\n",
        "yield_2223diff.head()"
      ],
      "metadata": {
        "id": "VHkUJ0M2bPsd"
      },
      "execution_count": null,
      "outputs": []
    },
    {
      "cell_type": "markdown",
      "source": [
        "###Diff in Diff with 2022 and 2023 yield data"
      ],
      "metadata": {
        "id": "B57X6iITa1ft"
      }
    },
    {
      "cell_type": "code",
      "source": [
        "#DID in mean yield increaseid\n",
        "mean_yieldctrl_before = yield_2223diff.groupby('assignment').mean().iloc[0, 0]\n",
        "mean_yieldctrl_after = yield_2223diff.groupby('assignment').mean().iloc[0, 1]\n",
        "mean_ytr_before = yield_2223diff.groupby('assignment').mean().iloc[1, 0]\n",
        "mean_ytr_after = yield_2223diff.groupby('assignment').mean().iloc[1, 1]\n",
        "\n",
        "print(f'mean ctrl group yield 2022: {mean_yieldctrl_before:.2f}')\n",
        "print(f'mean ctrl group yield 2023: {mean_yieldctrl_after:.2f}')\n",
        "print(f'mean treatment group yield 2022: {mean_ytr_before:.2f}')\n",
        "print(f'mean treatment group yield 2023: {mean_ytr_after:.2f}')\n",
        "\n",
        "ctrl_diff = mean_yieldctrl_after - mean_yieldctrl_before\n",
        "treatment_diff = mean_ytr_after - mean_ytr_before\n",
        "did = treatment_diff - ctrl_diff\n",
        "\n",
        "print(f'DID in mean SOC is {did:.2f}')"
      ],
      "metadata": {
        "id": "ZXgYWscYa0z2"
      },
      "execution_count": null,
      "outputs": []
    },
    {
      "cell_type": "code",
      "source": [
        "yield_2223diff.index\n",
        "yield_2223diff.columns\n",
        "yield_reset = yield_2223diff.reset_index()\n",
        "yield_reset.columns\n",
        "yield_reset[\"assignment\"]= yield_reset['assignment'].replace({'Control': 0, 'Treatment': 1})\n",
        "yield_reset[\"assignment\"] = pd.to_numeric(yield_reset[\"assignment\"], errors='coerce')"
      ],
      "metadata": {
        "id": "H2aoSF3vjo87"
      },
      "execution_count": null,
      "outputs": []
    },
    {
      "cell_type": "code",
      "source": [
        "# group g: 0 control group, 1 treatment group\n",
        "# t: 0 before treatment, 1 after treatment\n",
        "# gt: interaction of g * t\n",
        "\n",
        "# data before the treatment\n",
        "df_before = yield_reset[['2022','assignment']]\n",
        "df_before['t'] = 0\n",
        "df_before.columns = ['Yield', 'g', 't']\n",
        "\n",
        "# data after the treatment\n",
        "df_after = yield_reset[['2023', 'assignment']]\n",
        "df_after['t'] = 1\n",
        "df_after.columns = ['Yield', 'g', 't']\n",
        "\n",
        "# data for regression\n",
        "df_reg = pd.concat([df_before, df_after])\n",
        "\n",
        "# create the interaction\n",
        "df_reg['gt'] = df_reg.g * df_reg.t"
      ],
      "metadata": {
        "id": "ltiiMwcukAYH"
      },
      "execution_count": null,
      "outputs": []
    },
    {
      "cell_type": "code",
      "source": [
        "'''# regression via sklearn\n",
        "from sklearn.linear_model import LinearRegression\n",
        "lr = LinearRegression()\n",
        "\n",
        "X = df_reg[['g', 't', 'gt']]\n",
        "y = df_reg.Yield\n",
        "\n",
        "# Drop rows with NaN values in the target variable 'Yield'\n",
        "df_reg = df_reg.dropna(subset=['Yield'])\n",
        "\n",
        "lr.fit(X, y)\n",
        "lr.coef_  # the coefficient for gt is the DID'''"
      ],
      "metadata": {
        "id": "NNEn5epXkAYH"
      },
      "execution_count": null,
      "outputs": []
    },
    {
      "cell_type": "code",
      "source": [
        "'''# result is significant\n",
        "\n",
        "from statsmodels.formula.api import ols\n",
        "ols = ols('Yield ~ g + t + gt', data=df_reg).fit()\n",
        "print(ols.summary())'''"
      ],
      "metadata": {
        "id": "B4sciETWkAYH"
      },
      "execution_count": null,
      "outputs": []
    },
    {
      "cell_type": "markdown",
      "source": [
        "###one-tailed t-test"
      ],
      "metadata": {
        "id": "cjws3ZiYmbLH"
      }
    },
    {
      "cell_type": "markdown",
      "source": [
        "# All SOC calculations"
      ],
      "metadata": {
        "id": "kL9dF9A9I2Y8"
      }
    },
    {
      "cell_type": "code",
      "source": [
        "#ml_SOC_stock is taken from 2023 (midline). SOC_stock_t_Cha_015\t is the original 2022 data\n",
        "SOC23_df.rename(columns={'bl_SOC_stock_t_Cha_015': 'bl_SOC_stock_015',\n",
        "                         'bl_SOC_stock_t_Cha_1530': 'bl_SOC_stock_1530',\n",
        "                         'ml_soc_stock_015': 'ml_SOC_stock_015',\n",
        "                         'ml_soc_stock_1530': 'ml_SOC_stock_1530' },\n",
        "                  inplace=True)\n",
        "SOC23_df.head()"
      ],
      "metadata": {
        "id": "iFy6v24gM4Yj"
      },
      "execution_count": null,
      "outputs": []
    },
    {
      "cell_type": "markdown",
      "source": [
        "#SOC at 0-15 cm  "
      ],
      "metadata": {
        "id": "Zdy5JSsXJvKm"
      }
    },
    {
      "cell_type": "code",
      "source": [
        "SOC23_df.iloc[0]\n",
        "SOC23_df['diff'] = SOC23_df['ml_SOC_stock_015'] - SOC23_df['bl_SOC_stock_015']\n",
        "soc23group1= SOC23_df.groupby('assignment').mean(numeric_only=True)\n",
        "soc23_015= soc23group1[['bl_SOC_stock_015', 'ml_SOC_stock_015']]\n",
        "soc23_015"
      ],
      "metadata": {
        "id": "6YWrEfqHLhUf"
      },
      "execution_count": null,
      "outputs": []
    },
    {
      "cell_type": "code",
      "source": [
        "soc23group= SOC23_df.groupby('assignment').mean(numeric_only=True)\n",
        "soc23group['diff']"
      ],
      "metadata": {
        "id": "stNfBisgQuYw"
      },
      "execution_count": null,
      "outputs": []
    },
    {
      "cell_type": "markdown",
      "source": [
        "####Diff in Diff based on SOC stock 0-15"
      ],
      "metadata": {
        "id": "9zIExqvdgmwm"
      }
    },
    {
      "cell_type": "code",
      "source": [
        "#DID in mean SOC stock increase 0-15cm\n",
        "mean_SOCctrl_before = soc23_015.groupby('assignment').mean().iloc[0, 0]\n",
        "mean_SOCctrl_after = soc23_015.groupby('assignment').mean().iloc[0, 1]\n",
        "mean_SOCtr_before = soc23_015.groupby('assignment').mean().iloc[1, 0]\n",
        "mean_SOCtr_after = soc23_015.groupby('assignment').mean().iloc[1, 1]\n",
        "\n",
        "print(f'mean ctrl group SOC 2022: {mean_SOCctrl_before:.2f}')\n",
        "print(f'mean ctrl group SOC 2023: {mean_SOCctrl_after:.2f}')\n",
        "print(f'mean treatment group SOC 2022: {mean_SOCtr_before:.2f}')\n",
        "print(f'mean treatment group SOC 2023: {mean_SOCtr_after:.2f}')\n",
        "\n",
        "ctrl_diff = mean_SOCctrl_after - mean_SOCctrl_before\n",
        "treatment_diff = mean_SOCtr_after - mean_SOCtr_before\n",
        "did = treatment_diff - ctrl_diff\n",
        "\n",
        "print(f'DID in mean SOC is {did:.2f}')"
      ],
      "metadata": {
        "id": "H4mCErVJ2bpM"
      },
      "execution_count": null,
      "outputs": []
    },
    {
      "cell_type": "code",
      "source": [
        "SOC_2223diff=SOC23_df[['assignment','bl_SOC_stock_015', 'ml_SOC_stock_015']]\n",
        "SOC_reset = SOC_2223diff.reset_index()\n",
        "SOC_reset.columns\n",
        "SOC_reset[\"assignment\"]= SOC_reset['assignment'].replace({'Control': 0, 'Treatment': 1})\n",
        "SOC_reset[\"assignment\"] = pd.to_numeric(SOC_reset[\"assignment\"], errors='coerce')"
      ],
      "metadata": {
        "id": "xX9tm5WA2uBL"
      },
      "execution_count": null,
      "outputs": []
    },
    {
      "cell_type": "code",
      "source": [
        "# group g: 0 control group, 1 treatment group\n",
        "# t: 0 before treatment, 1 after treatment\n",
        "# gt: interaction of g * t\n",
        "\n",
        "# data before the treatment\n",
        "df_before = SOC_reset[['bl_SOC_stock_015','assignment']]\n",
        "df_before['t'] = 0\n",
        "df_before.columns = ['SOC', 'g', 't']\n",
        "\n",
        "# data after the treatment\n",
        "df_after = SOC_reset[['ml_SOC_stock_015', 'assignment']]\n",
        "df_after['t'] = 1\n",
        "df_after.columns = ['SOC', 'g', 't']\n",
        "\n",
        "# data for regression\n",
        "df_reg = pd.concat([df_before, df_after])\n",
        "\n",
        "# create the interaction\n",
        "df_reg['gt'] = df_reg.g * df_reg.t"
      ],
      "metadata": {
        "id": "k93e1_6026bT"
      },
      "execution_count": null,
      "outputs": []
    },
    {
      "cell_type": "code",
      "source": [
        "# regression via sklearn\n",
        "from sklearn.linear_model import LinearRegression\n",
        "lr = LinearRegression()\n",
        "\n",
        "X = df_reg[['g', 't', 'gt']]\n",
        "y = df_reg.SOC\n",
        "\n",
        "# Drop rows with NaN values in the target variable 'SOC'\n",
        "df_reg = df_reg.dropna(subset=['SOC'])\n",
        "\n",
        "lr.fit(X, y)\n",
        "lr.coef_  # the coefficient for gt is the DID"
      ],
      "metadata": {
        "id": "kwiUG5F23E3s"
      },
      "execution_count": null,
      "outputs": []
    },
    {
      "cell_type": "code",
      "source": [
        "# result is significant\n",
        "\n",
        "from statsmodels.formula.api import ols\n",
        "ols = ols('SOC ~ g + t + gt', data=df_reg).fit()\n",
        "print(ols.summary())"
      ],
      "metadata": {
        "id": "jCQe9sGX3bw9"
      },
      "execution_count": null,
      "outputs": []
    },
    {
      "cell_type": "markdown",
      "source": [
        "###One-tailed t-test"
      ],
      "metadata": {
        "id": "4DFrB5JigXyq"
      }
    },
    {
      "cell_type": "code",
      "source": [
        "SOC_2223diff.head()\n",
        "SOC_2223diff['diff']=SOC_2223diff['ml_SOC_stock_015']-SOC_2223diff['bl_SOC_stock_015']\n",
        "SOC_2223diff.head()\n",
        "treatment_diff=SOC_2223diff[SOC_2223diff['assignment']=='Treatment']['diff']\n",
        "control_diff=SOC_2223diff[SOC_2223diff['assignment']=='Control']['diff']\n"
      ],
      "metadata": {
        "id": "mL8-HKyNgO-P"
      },
      "execution_count": null,
      "outputs": []
    },
    {
      "cell_type": "code",
      "source": [
        "#One-tailed t-test\n",
        "import numpy as np\n",
        "from scipy.stats import ttest_ind # Import the ttest_ind function\n",
        "from scipy import stats\n",
        "\n",
        "t_stat, p_val = stats.ttest_ind(treatment_diff, control_diff, alternative=\"greater\")\n",
        "print(f\"T-statistic: {t_stat}\")\n",
        "print(f\"P-value: {p_val}\")\n",
        "if p_val < 0.05:\n",
        "    print(\"Result: Reject the null hypothesis — diff Treatment > diff Control (significant)\")\n",
        "else:\n",
        "    print(\"Result: Fail to reject the null — no significant difference\")"
      ],
      "metadata": {
        "id": "gKE4sim4gOQA"
      },
      "execution_count": null,
      "outputs": []
    },
    {
      "cell_type": "markdown",
      "source": [
        "##Graph"
      ],
      "metadata": {
        "id": "17L2syoFsWW9"
      }
    },
    {
      "cell_type": "code",
      "source": [
        "import pandas as pd\n",
        "import matplotlib.pyplot as plt\n",
        "import seaborn as sns\n",
        "import datetime\n",
        "\n",
        "pre= datetime.date(2022, 4, 1)\n",
        "treatment= datetime.date(2022, 5, 1)\n",
        "post= datetime.date(2023, 10, 1)\n",
        "x=[pre, post]\n",
        "y=[11.034,10.498816]\n",
        "\n",
        "# Sample data (replace with your actual data)\n",
        "data = {'year': [pre, post, treatment, post],\n",
        "        'group': ['control', 'control', 'treatment', 'treatment'],\n",
        "        'SOC Stock': [soc23_015.iloc[0, 0], soc23_015.iloc[0, 1], soc23_015.iloc[1, 0], soc23_015.iloc[1, 1]]}\n",
        "df = pd.DataFrame(data)\n",
        "\n",
        "# Line plot\n",
        "sns.lineplot(data=df, x='year', y='SOC Stock', hue='group', marker='o')\n",
        "plt.plot(x, y, linestyle='dotted', label='Dotted Line')\n",
        "plt.axvline(x=treatment, color='r', linestyle='--', linewidth=2)\n",
        "plt.axvline(x=post, color='b', linestyle='--', linewidth=2)\n",
        "plt.title('Difference-in-Differences of SOC Stock from 0-15cm')\n",
        "plt.xticks(rotation=45, ha='right')\n",
        "plt.xlabel('Time Period')\n",
        "plt.ylabel('SOC Stock in t/ha')\n",
        "plt.show()\n"
      ],
      "metadata": {
        "id": "s8Vd8u0ixEZl"
      },
      "execution_count": null,
      "outputs": []
    },
    {
      "cell_type": "markdown",
      "source": [
        "#SOC at 15-30 cm"
      ],
      "metadata": {
        "id": "0E5FcFZUvgx_"
      }
    },
    {
      "cell_type": "code",
      "source": [
        "SOC23_df.head()"
      ],
      "metadata": {
        "id": "DZ9s-Hmq5Q4y"
      },
      "execution_count": null,
      "outputs": []
    },
    {
      "cell_type": "code",
      "source": [
        "SOC23_df['diff2'] = SOC23_df['ml_SOC_stock_1530'] - SOC23_df['bl_SOC_stock_1530']\n",
        "soc23group= SOC23_df.groupby('assignment').mean(numeric_only=True)\n",
        "soc23_1530= soc23group[['bl_SOC_stock_1530', 'ml_SOC_stock_1530']]\n",
        "soc23_1530\n"
      ],
      "metadata": {
        "id": "0iGRmrzgSeF-"
      },
      "execution_count": null,
      "outputs": []
    },
    {
      "cell_type": "code",
      "source": [
        "soc23group= SOC23_df.groupby('assignment').mean(numeric_only=True)\n",
        "soc23group['diff2']"
      ],
      "metadata": {
        "id": "jVZU8tUP6baG"
      },
      "execution_count": null,
      "outputs": []
    },
    {
      "cell_type": "markdown",
      "source": [
        "###Diff in Diff based on SOC stock 15-30\n"
      ],
      "metadata": {
        "id": "lLkyczeAvU_r"
      }
    },
    {
      "cell_type": "code",
      "source": [
        "#DID in mean SOC stock increase 15-30cm\n",
        "mean_SOCctrl_before = soc23_1530.groupby('assignment').mean().iloc[0, 0]\n",
        "mean_SOCctrl_after = soc23_1530.groupby('assignment').mean().iloc[0, 1]\n",
        "mean_SOCtr_before = soc23_1530.groupby('assignment').mean().iloc[1, 0]\n",
        "mean_SOCtr_after = soc23_1530.groupby('assignment').mean().iloc[1, 1]\n",
        "\n",
        "print(f'mean ctrl group SOC 2022: {mean_SOCctrl_before:.2f}')\n",
        "print(f'mean ctrl group SOC 2023: {mean_SOCctrl_after:.2f}')\n",
        "print(f'mean treatment group SOC 2022: {mean_SOCtr_before:.2f}')\n",
        "print(f'mean treatment group SOC 2023: {mean_SOCtr_after:.2f}')\n",
        "\n",
        "ctrl_diff = mean_SOCctrl_after - mean_SOCctrl_before\n",
        "treatment_diff = mean_SOCtr_after - mean_SOCtr_before\n",
        "did = treatment_diff - ctrl_diff\n",
        "\n",
        "print(f'DID in mean SOC is {did:.2f}')"
      ],
      "metadata": {
        "id": "p3Q2OwQXP80p"
      },
      "execution_count": null,
      "outputs": []
    },
    {
      "cell_type": "code",
      "source": [
        "SOC23_df.head()"
      ],
      "metadata": {
        "id": "ugOoXsXETw7l"
      },
      "execution_count": null,
      "outputs": []
    },
    {
      "cell_type": "code",
      "source": [
        "SOC_2223diff2=SOC23_df[['assignment','bl_SOC_stock_1530', 'ml_SOC_stock_1530']]\n",
        "SOC_reset2 = SOC_2223diff2.reset_index()\n",
        "SOC_reset2.columns\n",
        "SOC_reset2[\"assignment\"]= SOC_reset2['assignment'].replace({'Control': 0, 'Treatment': 1})\n",
        "SOC_reset2[\"assignment\"] = pd.to_numeric(SOC_reset2[\"assignment\"], errors='coerce')"
      ],
      "metadata": {
        "id": "fNQe0ZkTP80q"
      },
      "execution_count": null,
      "outputs": []
    },
    {
      "cell_type": "code",
      "source": [
        "# group g: 0 control group, 1 treatment group\n",
        "# t: 0 before treatment, 1 after treatment\n",
        "# gt: interaction of g * t\n",
        "\n",
        "# data before the treatment\n",
        "df_before = SOC_reset2[['bl_SOC_stock_1530','assignment']]\n",
        "df_before['t'] = 0\n",
        "df_before.columns = ['SOC', 'g', 't']\n",
        "\n",
        "# data after the treatment\n",
        "df_after = SOC_reset2[['ml_SOC_stock_1530', 'assignment']]\n",
        "df_after['t'] = 1\n",
        "df_after.columns = ['SOC', 'g', 't']\n",
        "\n",
        "# data for regression\n",
        "df_reg = pd.concat([df_before, df_after])\n",
        "\n",
        "# create the interaction\n",
        "df_reg['gt'] = df_reg.g * df_reg.t"
      ],
      "metadata": {
        "id": "7Gv6sLVxP80q"
      },
      "execution_count": null,
      "outputs": []
    },
    {
      "cell_type": "code",
      "source": [
        "# regression via sklearn\n",
        "from sklearn.linear_model import LinearRegression\n",
        "lr = LinearRegression()\n",
        "\n",
        "X = df_reg[['g', 't', 'gt']]\n",
        "y = df_reg.SOC\n",
        "\n",
        "# Drop rows with NaN values in the target variable 'SOC'\n",
        "df_reg = df_reg.dropna(subset=['SOC'])\n",
        "\n",
        "lr.fit(X, y)\n",
        "lr.coef_  # the coefficient for gt is the DID"
      ],
      "metadata": {
        "id": "P49llZJQP80r"
      },
      "execution_count": null,
      "outputs": []
    },
    {
      "cell_type": "code",
      "source": [
        "# result is significant\n",
        "\n",
        "from statsmodels.formula.api import ols\n",
        "ols = ols('SOC ~ g + t + gt', data=df_reg).fit()\n",
        "print(ols.summary())"
      ],
      "metadata": {
        "id": "J6T3cTniP80r"
      },
      "execution_count": null,
      "outputs": []
    },
    {
      "cell_type": "markdown",
      "source": [
        "###one-tailed t-test\n"
      ],
      "metadata": {
        "id": "5hrxuM0RmD-E"
      }
    },
    {
      "cell_type": "code",
      "source": [
        "SOC_2223diff2.head()\n",
        "SOC_2223diff2['diff2']=SOC_2223diff2['ml_SOC_stock_1530']-SOC_2223diff2['bl_SOC_stock_1530']\n",
        "SOC_2223diff2.head()\n",
        "treatment_diff2=SOC_2223diff2[SOC_2223diff2['assignment']=='Treatment']['diff2']#.toseries()\n",
        "control_diff2=SOC_2223diff2[SOC_2223diff2['assignment']=='Control']['diff2']#.toseries()\n"
      ],
      "metadata": {
        "id": "c-BqPRR8Zswv"
      },
      "execution_count": null,
      "outputs": []
    },
    {
      "cell_type": "code",
      "source": [
        "#One-tailed t-test\n",
        "import numpy as np\n",
        "from scipy.stats import ttest_ind # Import the ttest_ind function\n",
        "\n",
        "t_stat, p_val = stats.ttest_ind(treatment_diff2, control_diff2, alternative=\"greater\")\n",
        "print(f\"T-statistic: {t_stat}\")\n",
        "print(f\"P-value: {p_val}\")\n",
        "if p_val < 0.05:\n",
        "    print(\"Result: Reject the null hypothesis — diff Treatment > diff Control (significant)\")\n",
        "else:\n",
        "    print(\"Result: Fail to reject the null — no significant difference\")"
      ],
      "metadata": {
        "id": "YRah8XPwfMS5"
      },
      "execution_count": null,
      "outputs": []
    },
    {
      "cell_type": "markdown",
      "source": [
        "##graph"
      ],
      "metadata": {
        "id": "Ya5-eJDt4_GE"
      }
    },
    {
      "cell_type": "code",
      "source": [
        "pre= datetime.date(2022, 4, 1)\n",
        "treatment= datetime.date(2022, 5, 1)\n",
        "post= datetime.date(2023, 10, 1)\n",
        "x=[pre, post]\n",
        "y=[soc23_1530.iloc[1, 0], soc23_1530.iloc[1, 0]-0.015154]\n",
        "\n",
        "# Sample data (replace with your actual data)\n",
        "data = {'year': [pre, post, treatment, post],\n",
        "        'group': ['control', 'control', 'treatment', 'treatment'],\n",
        "        'SOC Stock': [soc23_1530.iloc[0, 0], soc23_1530.iloc[0, 1], soc23_1530.iloc[1, 0], soc23_1530.iloc[1, 1]]}\n",
        "df = pd.DataFrame(data)\n",
        "\n",
        "# Line plot\n",
        "sns.lineplot(data=df, x='year', y='SOC Stock', hue='group', marker='o')\n",
        "plt.plot(x, y, linestyle='dotted', label='Dotted Line')\n",
        "plt.axvline(x=treatment, color='r', linestyle='--', linewidth=2)\n",
        "plt.axvline(x=post, color='b', linestyle='--', linewidth=2)\n",
        "plt.title('Difference-in-Differences of SOC Stock from 15-30cm')\n",
        "plt.xticks(rotation=45, ha='right')\n",
        "plt.xlabel('Time Period')\n",
        "plt.ylabel('SOC Stock in t/ha')\n",
        "plt.show()\n"
      ],
      "metadata": {
        "id": "usNi6caL5AQB"
      },
      "execution_count": null,
      "outputs": []
    },
    {
      "cell_type": "markdown",
      "source": [
        "#NDVI over time graph"
      ],
      "metadata": {
        "id": "7EnNFKWNB-JX"
      }
    },
    {
      "cell_type": "code",
      "source": [
        "#address = r'DataOriginal\\Vegetation Indices GEE'\n",
        "address=r'/content/drive/MyDrive/Vegetation Indices GEE'\n",
        "list_df = []\n",
        "list_error = []\n",
        "for i in os.listdir(address):\n",
        "    print(i)\n",
        "    try:\n",
        "        file_path = os.path.join(address, i)\n",
        "        df = pd.read_csv(file_path, header=0)\n",
        "        df = df[['date', 'path', 'B1', 'B11', 'B12',\n",
        "                 'B2', 'B3', 'B4', 'B5', 'B6',\n",
        "                 'B7', 'B8', 'B8A', 'B9', 'NDVI',\n",
        "                 'TVI', 'EVI', 'SATVI', 'SAVI', 'MSI',\n",
        "                 'GNDVI', 'GRVI', 'LSWI', 'MSAVI2', 'WDVI', 'BI',\n",
        "                 'BI2', 'RI', 'CI', 'V']].copy()\n",
        "        df['date'] = pd.to_datetime(df['date'].astype(str), format='%Y%m%d')\n",
        "        df['year'] = [x.year for x in df['date']]\n",
        "        df['month'] = [x.month for x in df['date']]\n",
        "        df['fieldID'] = ['10208071' if x=='C:/Users/Admin/Desktop/Shapefiles-20230504T062202Z-001/Shapefiles/10208071/10208071 shapefile.shp'\n",
        "                         else '20412107' if x=='C:/Users/Admin/Desktop/Shapefiles-20230504T062202Z-001/Shapefiles/20412107|layername=20412107'\n",
        "                         else x[-12:-4] for x in df['path']]\n",
        "        df.drop(columns=['path'], inplace=True)\n",
        "        list_df.append(df)\n",
        "    except:\n",
        "        list_error.append(i)"
      ],
      "metadata": {
        "id": "h22zYFHnCAit"
      },
      "execution_count": null,
      "outputs": []
    },
    {
      "cell_type": "code",
      "source": [
        "NDVI_df = pd.concat(list_df)[[\"NDVI\", \"fieldID\",'year','month']]\n",
        "NDVI_df.head()"
      ],
      "metadata": {
        "id": "cKrPuRIOCM6Z"
      },
      "execution_count": null,
      "outputs": []
    },
    {
      "cell_type": "code",
      "source": [
        "NDVI_id= NDVI_df.merge(SOC23id, left_on='fieldID', right_on='unique_id', how='inner')[[\"year\",\"month\", \"NDVI\", \"assignment\"]]\n",
        "NDVI_id['date'] = pd.to_datetime(NDVI_id[['year', 'month']].assign(day=1))\n",
        "#yield20_23c= yield20_23[yield20_23['assignment'] == \"Control\"].groupby('year')['yield_per_hectare'].mean().reset_index()\n",
        "#yield20_23t= yield20_23[yield20_23['assignment'] == \"Treatment\"].groupby('year')['yield_per_hectare'].mean().reset_index()\n",
        "NDVI_group= NDVI_id.groupby(['assignment', 'date'])['NDVI'].mean().reset_index()\n",
        "NDVI_group"
      ],
      "metadata": {
        "id": "a8oXSx0ECN22"
      },
      "execution_count": null,
      "outputs": []
    },
    {
      "cell_type": "code",
      "source": [
        "treatment= datetime.date(2022, 5, 1)\n",
        "NDVIdata = {'date': NDVI_id[\"date\"],\n",
        "        'Group': NDVI_id[\"assignment\"],\n",
        "        'NDVI': NDVI_id[\"NDVI\"]}\n",
        "dfN = pd.DataFrame(NDVIdata)\n",
        "\n",
        "# Line plot\n",
        "sns.lineplot(data=dfN, x='date', y='NDVI', hue='Group', marker='o')\n",
        "plt.axvline(x=treatment, color='r', linestyle='--', linewidth=2)\n",
        "plt.title('NDVI trends between 2019 and 2024')\n",
        "plt.xticks(rotation=45, ha='right')\n",
        "plt.xlabel('Time Period')\n",
        "plt.ylabel('Average NDVI')\n",
        "plt.show()"
      ],
      "metadata": {
        "id": "b5_718ImEpHm"
      },
      "execution_count": null,
      "outputs": []
    },
    {
      "cell_type": "code",
      "source": [],
      "metadata": {
        "id": "WW5ls6AgIw72"
      },
      "execution_count": null,
      "outputs": []
    }
  ]
}